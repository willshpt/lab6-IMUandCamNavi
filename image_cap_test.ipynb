{
 "cells": [
  {
   "cell_type": "code",
   "execution_count": 25,
   "metadata": {},
   "outputs": [
    {
     "name": "stdout",
     "output_type": "stream",
     "text": [
      "none\n"
     ]
    },
    {
     "name": "stderr",
     "output_type": "stream",
     "text": [
      "W20230824 18:09:38.613459 1144837888 gesture_recognizer_graph.cc:122] Hand Gesture Recognizer contains CPU only ops. Sets HandGestureRecognizerGraph acceleartion to Xnnpack.\n",
      "I20230824 18:09:38.615530 1144837888 hand_gesture_recognizer_graph.cc:250] Custom gesture classifier is not defined.\n"
     ]
    }
   ],
   "source": [
    "# opening an image from a web address\n",
    "import urllib.request\n",
    "from PIL import Image\n",
    "from gesture_recognition import get_results\n",
    "  \n",
    "url = \"http://192.168.4.1:80/capture?\"\n",
    "urllib.request.urlretrieve(url, \"cap.jpg\")\n",
    "img = Image.open(\"cap.jpg\")\n",
    "name = get_results('/Users/rhodesfotopulos/Documents/CS396VR_Hardware/untitled folder/cap.jpg')\n",
    "print(name)"
   ]
  }
 ],
 "metadata": {
  "kernelspec": {
   "display_name": "Python 3",
   "language": "python",
   "name": "python3"
  },
  "language_info": {
   "codemirror_mode": {
    "name": "ipython",
    "version": 3
   },
   "file_extension": ".py",
   "mimetype": "text/x-python",
   "name": "python",
   "nbconvert_exporter": "python",
   "pygments_lexer": "ipython3",
   "version": "3.8.16"
  },
  "orig_nbformat": 4
 },
 "nbformat": 4,
 "nbformat_minor": 2
}
